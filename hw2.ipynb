{
 "cells": [
  {
   "cell_type": "markdown",
   "metadata": {},
   "source": [
    "Homework 2\n",
    "\n",
    "Problem 1"
   ]
  },
  {
   "cell_type": "code",
   "execution_count": 4,
   "metadata": {},
   "outputs": [],
   "source": [
    "import numpy as np\n",
    "import scipy as sp\n",
    "import matplotlib.pyplot as plt"
   ]
  },
  {
   "cell_type": "code",
   "execution_count": 3,
   "metadata": {},
   "outputs": [],
   "source": [
    "def bisection(f, a, b, tol):\n",
    "    x = (a + b) / 2\n",
    "    while np.abs(b - a) >= tol:\n",
    "        if np.sign(f(x)) == np.sign(f(a)):\n",
    "            a = x\n",
    "        else:\n",
    "            b = x\n",
    "    x = (a + b) / 2\n",
    "    return x"
   ]
  },
  {
   "cell_type": "code",
   "execution_count": 5,
   "metadata": {},
   "outputs": [],
   "source": [
    "L = 4\n",
    "x0 = -L\n",
    "y0 = 0\n",
    "xf = L\n",
    "yf = 0"
   ]
  },
  {
   "cell_type": "code",
   "execution_count": null,
   "metadata": {},
   "outputs": [],
   "source": [
    "def f(x, y, beta):\n",
    "    return np.array([y[1], -beta * y[0]])"
   ]
  },
  {
   "cell_type": "code",
   "execution_count": 6,
   "metadata": {},
   "outputs": [],
   "source": [
    "def shoot(beta):\n",
    "    A = 1\n",
    "    tspan = np.array([x0, xf])\n",
    "    init_condition = np.array([y0, A])\n",
    "    sol = sp.integrate.solve_ivp(lambda x, y: f(x, y, beta), tspan, init_condition)\n",
    "    return sol.y[0, -1]"
   ]
  },
  {
   "cell_type": "code",
   "execution_count": 9,
   "metadata": {},
   "outputs": [
    {
     "ename": "KeyboardInterrupt",
     "evalue": "",
     "output_type": "error",
     "traceback": [
      "\u001b[0;31m---------------------------------------------------------------------------\u001b[0m",
      "\u001b[0;31mKeyboardInterrupt\u001b[0m                         Traceback (most recent call last)",
      "\u001b[1;32m/home/nadidela/Documents/GitHub/amath-581/hw2.ipynb Cell 7\u001b[0m line \u001b[0;36m6\n\u001b[1;32m      <a href='vscode-notebook-cell:/home/nadidela/Documents/GitHub/amath-581/hw2.ipynb#X11sZmlsZQ%3D%3D?line=3'>4</a>\u001b[0m x_eval \u001b[39m=\u001b[39m np\u001b[39m.\u001b[39mlinspace(x0, xf, \u001b[39m1000\u001b[39m)\n\u001b[1;32m      <a href='vscode-notebook-cell:/home/nadidela/Documents/GitHub/amath-581/hw2.ipynb#X11sZmlsZQ%3D%3D?line=4'>5</a>\u001b[0m init_condition \u001b[39m=\u001b[39m np\u001b[39m.\u001b[39marray([y0, A])\n\u001b[0;32m----> <a href='vscode-notebook-cell:/home/nadidela/Documents/GitHub/amath-581/hw2.ipynb#X11sZmlsZQ%3D%3D?line=5'>6</a>\u001b[0m beta \u001b[39m=\u001b[39m bisection(shoot, \u001b[39m0.1\u001b[39;49m, \u001b[39m0.2\u001b[39;49m, \u001b[39m1e-8\u001b[39;49m)\n\u001b[1;32m      <a href='vscode-notebook-cell:/home/nadidela/Documents/GitHub/amath-581/hw2.ipynb#X11sZmlsZQ%3D%3D?line=6'>7</a>\u001b[0m \u001b[39mprint\u001b[39m(\u001b[39m\"\u001b[39m\u001b[39mbeta = \u001b[39m\u001b[39m{}\u001b[39;00m\u001b[39m\"\u001b[39m\u001b[39m.\u001b[39mformat(beta))\n\u001b[1;32m      <a href='vscode-notebook-cell:/home/nadidela/Documents/GitHub/amath-581/hw2.ipynb#X11sZmlsZQ%3D%3D?line=7'>8</a>\u001b[0m n \u001b[39m=\u001b[39m \u001b[39m1\u001b[39m\n",
      "\u001b[1;32m/home/nadidela/Documents/GitHub/amath-581/hw2.ipynb Cell 7\u001b[0m line \u001b[0;36m4\n\u001b[1;32m      <a href='vscode-notebook-cell:/home/nadidela/Documents/GitHub/amath-581/hw2.ipynb#X11sZmlsZQ%3D%3D?line=1'>2</a>\u001b[0m x \u001b[39m=\u001b[39m (a \u001b[39m+\u001b[39m b) \u001b[39m/\u001b[39m \u001b[39m2\u001b[39m\n\u001b[1;32m      <a href='vscode-notebook-cell:/home/nadidela/Documents/GitHub/amath-581/hw2.ipynb#X11sZmlsZQ%3D%3D?line=2'>3</a>\u001b[0m \u001b[39mwhile\u001b[39;00m np\u001b[39m.\u001b[39mabs(b \u001b[39m-\u001b[39m a) \u001b[39m>\u001b[39m\u001b[39m=\u001b[39m tol:\n\u001b[0;32m----> <a href='vscode-notebook-cell:/home/nadidela/Documents/GitHub/amath-581/hw2.ipynb#X11sZmlsZQ%3D%3D?line=3'>4</a>\u001b[0m     \u001b[39mif\u001b[39;00m np\u001b[39m.\u001b[39msign(f(x)) \u001b[39m==\u001b[39m np\u001b[39m.\u001b[39msign(f(a)):\n\u001b[1;32m      <a href='vscode-notebook-cell:/home/nadidela/Documents/GitHub/amath-581/hw2.ipynb#X11sZmlsZQ%3D%3D?line=4'>5</a>\u001b[0m         a \u001b[39m=\u001b[39m x\n\u001b[1;32m      <a href='vscode-notebook-cell:/home/nadidela/Documents/GitHub/amath-581/hw2.ipynb#X11sZmlsZQ%3D%3D?line=5'>6</a>\u001b[0m     \u001b[39melse\u001b[39;00m:\n",
      "\u001b[1;32m/home/nadidela/Documents/GitHub/amath-581/hw2.ipynb Cell 7\u001b[0m line \u001b[0;36m5\n\u001b[1;32m      <a href='vscode-notebook-cell:/home/nadidela/Documents/GitHub/amath-581/hw2.ipynb#X11sZmlsZQ%3D%3D?line=2'>3</a>\u001b[0m tspan \u001b[39m=\u001b[39m np\u001b[39m.\u001b[39marray([x0, xf])\n\u001b[1;32m      <a href='vscode-notebook-cell:/home/nadidela/Documents/GitHub/amath-581/hw2.ipynb#X11sZmlsZQ%3D%3D?line=3'>4</a>\u001b[0m init_condition \u001b[39m=\u001b[39m np\u001b[39m.\u001b[39marray([y0, A])\n\u001b[0;32m----> <a href='vscode-notebook-cell:/home/nadidela/Documents/GitHub/amath-581/hw2.ipynb#X11sZmlsZQ%3D%3D?line=4'>5</a>\u001b[0m sol \u001b[39m=\u001b[39m sp\u001b[39m.\u001b[39;49mintegrate\u001b[39m.\u001b[39;49msolve_ivp(\u001b[39mlambda\u001b[39;49;00m x, y: f(x, y, beta), tspan, init_condition)\n\u001b[1;32m      <a href='vscode-notebook-cell:/home/nadidela/Documents/GitHub/amath-581/hw2.ipynb#X11sZmlsZQ%3D%3D?line=5'>6</a>\u001b[0m \u001b[39mreturn\u001b[39;00m sol\u001b[39m.\u001b[39my[\u001b[39m0\u001b[39m, \u001b[39m-\u001b[39m\u001b[39m1\u001b[39m]\n",
      "File \u001b[0;32m/usr/lib/python3/dist-packages/scipy/integrate/_ivp/ivp.py:591\u001b[0m, in \u001b[0;36msolve_ivp\u001b[0;34m(fun, t_span, y0, method, t_eval, dense_output, events, vectorized, args, **options)\u001b[0m\n\u001b[1;32m    589\u001b[0m status \u001b[39m=\u001b[39m \u001b[39mNone\u001b[39;00m\n\u001b[1;32m    590\u001b[0m \u001b[39mwhile\u001b[39;00m status \u001b[39mis\u001b[39;00m \u001b[39mNone\u001b[39;00m:\n\u001b[0;32m--> 591\u001b[0m     message \u001b[39m=\u001b[39m solver\u001b[39m.\u001b[39;49mstep()\n\u001b[1;32m    593\u001b[0m     \u001b[39mif\u001b[39;00m solver\u001b[39m.\u001b[39mstatus \u001b[39m==\u001b[39m \u001b[39m'\u001b[39m\u001b[39mfinished\u001b[39m\u001b[39m'\u001b[39m:\n\u001b[1;32m    594\u001b[0m         status \u001b[39m=\u001b[39m \u001b[39m0\u001b[39m\n",
      "File \u001b[0;32m/usr/lib/python3/dist-packages/scipy/integrate/_ivp/base.py:181\u001b[0m, in \u001b[0;36mOdeSolver.step\u001b[0;34m(self)\u001b[0m\n\u001b[1;32m    179\u001b[0m \u001b[39melse\u001b[39;00m:\n\u001b[1;32m    180\u001b[0m     t \u001b[39m=\u001b[39m \u001b[39mself\u001b[39m\u001b[39m.\u001b[39mt\n\u001b[0;32m--> 181\u001b[0m     success, message \u001b[39m=\u001b[39m \u001b[39mself\u001b[39;49m\u001b[39m.\u001b[39;49m_step_impl()\n\u001b[1;32m    183\u001b[0m     \u001b[39mif\u001b[39;00m \u001b[39mnot\u001b[39;00m success:\n\u001b[1;32m    184\u001b[0m         \u001b[39mself\u001b[39m\u001b[39m.\u001b[39mstatus \u001b[39m=\u001b[39m \u001b[39m'\u001b[39m\u001b[39mfailed\u001b[39m\u001b[39m'\u001b[39m\n",
      "File \u001b[0;32m/usr/lib/python3/dist-packages/scipy/integrate/_ivp/rk.py:144\u001b[0m, in \u001b[0;36mRungeKutta._step_impl\u001b[0;34m(self)\u001b[0m\n\u001b[1;32m    141\u001b[0m h \u001b[39m=\u001b[39m t_new \u001b[39m-\u001b[39m t\n\u001b[1;32m    142\u001b[0m h_abs \u001b[39m=\u001b[39m np\u001b[39m.\u001b[39mabs(h)\n\u001b[0;32m--> 144\u001b[0m y_new, f_new \u001b[39m=\u001b[39m rk_step(\u001b[39mself\u001b[39;49m\u001b[39m.\u001b[39;49mfun, t, y, \u001b[39mself\u001b[39;49m\u001b[39m.\u001b[39;49mf, h, \u001b[39mself\u001b[39;49m\u001b[39m.\u001b[39;49mA,\n\u001b[1;32m    145\u001b[0m                        \u001b[39mself\u001b[39;49m\u001b[39m.\u001b[39;49mB, \u001b[39mself\u001b[39;49m\u001b[39m.\u001b[39;49mC, \u001b[39mself\u001b[39;49m\u001b[39m.\u001b[39;49mK)\n\u001b[1;32m    146\u001b[0m scale \u001b[39m=\u001b[39m atol \u001b[39m+\u001b[39m np\u001b[39m.\u001b[39mmaximum(np\u001b[39m.\u001b[39mabs(y), np\u001b[39m.\u001b[39mabs(y_new)) \u001b[39m*\u001b[39m rtol\n\u001b[1;32m    147\u001b[0m error_norm \u001b[39m=\u001b[39m \u001b[39mself\u001b[39m\u001b[39m.\u001b[39m_estimate_error_norm(\u001b[39mself\u001b[39m\u001b[39m.\u001b[39mK, h, scale)\n",
      "File \u001b[0;32m/usr/lib/python3/dist-packages/scipy/integrate/_ivp/rk.py:66\u001b[0m, in \u001b[0;36mrk_step\u001b[0;34m(fun, t, y, f, h, A, B, C, K)\u001b[0m\n\u001b[1;32m     63\u001b[0m     dy \u001b[39m=\u001b[39m np\u001b[39m.\u001b[39mdot(K[:s]\u001b[39m.\u001b[39mT, a[:s]) \u001b[39m*\u001b[39m h\n\u001b[1;32m     64\u001b[0m     K[s] \u001b[39m=\u001b[39m fun(t \u001b[39m+\u001b[39m c \u001b[39m*\u001b[39m h, y \u001b[39m+\u001b[39m dy)\n\u001b[0;32m---> 66\u001b[0m y_new \u001b[39m=\u001b[39m y \u001b[39m+\u001b[39m h \u001b[39m*\u001b[39m np\u001b[39m.\u001b[39;49mdot(K[:\u001b[39m-\u001b[39;49m\u001b[39m1\u001b[39;49m]\u001b[39m.\u001b[39;49mT, B)\n\u001b[1;32m     67\u001b[0m f_new \u001b[39m=\u001b[39m fun(t \u001b[39m+\u001b[39m h, y_new)\n\u001b[1;32m     69\u001b[0m K[\u001b[39m-\u001b[39m\u001b[39m1\u001b[39m] \u001b[39m=\u001b[39m f_new\n",
      "File \u001b[0;32m<__array_function__ internals>:200\u001b[0m, in \u001b[0;36mdot\u001b[0;34m(*args, **kwargs)\u001b[0m\n",
      "\u001b[0;31mKeyboardInterrupt\u001b[0m: "
     ]
    }
   ],
   "source": [
    "# Guess an initial velocity\n",
    "A = 1\n",
    "tspan = np.array([x0, xf])\n",
    "x_eval = np.linspace(x0, xf, 1000)\n",
    "init_condition = np.array([y0, A])\n",
    "beta = bisection(shoot, 0.1, 0.2, 1e-8)\n",
    "print(\"beta = {}\".format(beta))\n",
    "n = 1\n",
    "print(\"beta was supposed to be {}\".format((n * np.pi / (2 * L)) ** 2))\n",
    "sol = sp.integrate.solve_ivp(lambda x, y: f(x, y, beta), tspan, init_condition, t_eval=x_eval)\n",
    "x = sol.t\n",
    "y = sol.y[0, :]\n",
    "plt.plot(x, y, 'k', xf, yf, 'ro')\n",
    "plt.show()"
   ]
  },
  {
   "cell_type": "code",
   "execution_count": null,
   "metadata": {},
   "outputs": [],
   "source": []
  }
 ],
 "metadata": {
  "kernelspec": {
   "display_name": "Python 3",
   "language": "python",
   "name": "python3"
  },
  "language_info": {
   "codemirror_mode": {
    "name": "ipython",
    "version": 3
   },
   "file_extension": ".py",
   "mimetype": "text/x-python",
   "name": "python",
   "nbconvert_exporter": "python",
   "pygments_lexer": "ipython3",
   "version": "3.11.6"
  }
 },
 "nbformat": 4,
 "nbformat_minor": 2
}
